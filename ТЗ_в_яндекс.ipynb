{
  "nbformat": 4,
  "nbformat_minor": 0,
  "metadata": {
    "colab": {
      "provenance": [],
      "authorship_tag": "ABX9TyPaXcxIEibt9hrXTVzq+zaQ",
      "include_colab_link": true
    },
    "kernelspec": {
      "name": "python3",
      "display_name": "Python 3"
    },
    "language_info": {
      "name": "python"
    }
  },
  "cells": [
    {
      "cell_type": "markdown",
      "metadata": {
        "id": "view-in-github",
        "colab_type": "text"
      },
      "source": [
        "<a href=\"https://colab.research.google.com/github/bahti21/tech_specifications_for_work/blob/main/%D0%A2%D0%97_%D0%B2_%D1%8F%D0%BD%D0%B4%D0%B5%D0%BA%D1%81.ipynb\" target=\"_parent\"><img src=\"https://colab.research.google.com/assets/colab-badge.svg\" alt=\"Open In Colab\"/></a>"
      ]
    },
    {
      "cell_type": "markdown",
      "source": [
        "В одном городе проходят выборы нового мэра, всего есть два кандидата: Андрей и Борис. Город этот небольшой и в нем есть\n",
        "N\n",
        "N районов.\n",
        "\n",
        "Для каждого района известно, сколько человек поддерживает Андрея и Бориса. Борис очень сильно желает победить, поэтому он собирается произнести в некоторых районах речь. Если в\n",
        "i\n",
        "i-м районе Борис произносит речь, то все жители этого района голосуют за Бориса. В противном случае, жители, которые поддерживают Андрея, голосуют за него, а остальные избиратели расстраиваются и не голосуют.\n",
        "\n",
        "В выборах побеждает кандидат, набравший строго большее число голосов, чем его соперник.\n",
        "\n",
        "Само собой, Борис очень занятой человек, поэтому хочет посетить минимальное число районов для победы на выборах. Вы, как его помощник, должны вычислить это количество.\n"
      ],
      "metadata": {
        "id": "DE6hl7iVTTrn"
      }
    },
    {
      "cell_type": "code",
      "source": [
        "sorted(\"This is a test string from Andrew\".split(), key=str.lower)\n"
      ],
      "metadata": {
        "colab": {
          "base_uri": "https://localhost:8080/"
        },
        "id": "sVKfudh0kJJq",
        "outputId": "cfa43402-f898-4b93-ea0f-58d7245f1365"
      },
      "execution_count": null,
      "outputs": [
        {
          "output_type": "execute_result",
          "data": {
            "text/plain": [
              "['a', 'Andrew', 'from', 'is', 'string', 'test', 'This']"
            ]
          },
          "metadata": {},
          "execution_count": 23
        }
      ]
    },
    {
      "cell_type": "code",
      "source": [
        "def minimum_districts_to_win(n, districts):\n",
        "    votes_andrey = sum(a for a, b in districts)\n",
        "    votes_boris = sum(b for a, b in districts)\n",
        "\n",
        "    votes_needed = votes_andrey - votes_boris\n",
        "\n",
        "    speech_effects = [(a + b) for a, b in districts]\n",
        "    speech_effects.sort(reverse=True)\n",
        "\n",
        "    total_speeches = 0\n",
        "    total_gain = 0\n",
        "\n",
        "    for effect in speech_effects:\n",
        "        if total_gain > votes_needed:\n",
        "            break\n",
        "        total_gain += effect\n",
        "        total_speeches += 1\n",
        "\n",
        "    return total_speeches\n",
        "\n",
        "# Пример использования\n",
        "n = int(input())\n",
        "districts = [tuple(map(int, input().split())) for _ in range(n)]\n",
        "print(minimum_districts_to_win(n, districts))\n"
      ],
      "metadata": {
        "colab": {
          "base_uri": "https://localhost:8080/"
        },
        "id": "ZGniYUOimOqc",
        "outputId": "8916bb50-736c-4298-897c-ef50c5c85ca3"
      },
      "execution_count": null,
      "outputs": [
        {
          "output_type": "stream",
          "name": "stdout",
          "text": [
            "1\n",
            "297 631\n",
            "0\n"
          ]
        }
      ]
    },
    {
      "cell_type": "code",
      "source": [
        "#chat\n",
        "def minimum_districts_to_win(n, districts):\n",
        "    votes_andrey = sum(a for a, b in districts)\n",
        "    votes_boris = sum(b for a, b in districts)\n",
        "\n",
        "    votes_needed = votes_andrey - votes_boris\n",
        "\n",
        "    speech_effects = [(a + b, a, b) for a, b in districts]\n",
        "    speech_effects.sort(reverse=True, key=lambda x: x[0])\n",
        "\n",
        "    total_speeches = 0\n",
        "    total_gain = 0\n",
        "\n",
        "    for effect, a, b in speech_effects:\n",
        "        if total_gain > votes_needed:\n",
        "            break\n",
        "        total_gain += effect\n",
        "        total_speeches += 1\n",
        "\n",
        "    return total_speeches\n",
        "\n",
        "\n",
        "n = int(input())\n",
        "districts = [tuple(map(int, input().split())) for _ in range(n)]\n",
        "print(minimum_districts_to_win(n, districts))\n",
        "#мое\n",
        "\n"
      ],
      "metadata": {
        "colab": {
          "base_uri": "https://localhost:8080/"
        },
        "id": "lTMJVirYTWl8",
        "outputId": "fee5e2e9-9e8b-44d9-a780-1f0e1af82662"
      },
      "execution_count": null,
      "outputs": [
        {
          "output_type": "stream",
          "name": "stdout",
          "text": [
            "1\n",
            "297 631\n",
            "0\n"
          ]
        }
      ]
    },
    {
      "cell_type": "markdown",
      "source": [
        "В Берляндии каждый человек должен кому-нибудь денег. Более точно, среди\n",
        "n\n",
        "n жителей Берляндии, каждый житель с номером\n",
        "i должен отдать жителю с номером\n",
        "ai≠i ровно bi монет.\n",
        "\n",
        "Жители Берляндии очень честные, поэтому выплатят долг, как только у них появятся свободные деньги. Более того, если кто-то заплатит им долг, то они с помощью полученных денег сразу же отдадут долг тому, кому они сами должны (или, если денег не хватит, выплатят часть долга).\n",
        "\n",
        "Правительство Берляндии планирует выдать субсидии так, чтобы никто больше никому не был должен. Какое минимальное количество монет нужно выпустить для субсидий?\n",
        "\n",
        "Формат ввода\n",
        "В первой строке вводится число n\n",
        "(1≤n≤30000) - количество жителей Берляндии.\n",
        "\n",
        "В следующих n строках вводится по 2 числа ai, bi\n",
        "(1≤ai≤n,a ≠ i,1≤b i≤10000) — описание долга\n",
        "i-го человека: кому нужно его отдать и в каком размере.\n",
        "\n",
        "Формат вывода\n",
        "Выведите единственное число - минимальный достаточный размер субсидий для того, чтобы в Берляндии не осталось должников."
      ],
      "metadata": {
        "id": "_zISbneqYCdM"
      }
    },
    {
      "cell_type": "code",
      "source": [
        "def minimum_subsidy(n, debts):\n",
        "    total_debt = sum(b for _, b in debts)\n",
        "    return total_debt\n",
        "\n",
        "# Пример использования\n",
        "n = int(input())\n",
        "debts = [tuple(map(int, input().split())) for _ in range(n)]\n",
        "print(minimum_subsidy(n, debts))\n"
      ],
      "metadata": {
        "colab": {
          "base_uri": "https://localhost:8080/"
        },
        "id": "8nX1oSb5YDnB",
        "outputId": "53235867-5594-4c06-8101-cf6c8935e4e8"
      },
      "execution_count": null,
      "outputs": [
        {
          "output_type": "stream",
          "name": "stdout",
          "text": [
            "5\n",
            "2 5\n",
            "3 2\n",
            "4 7\n",
            "5 3\n",
            "2 4\n",
            "21\n"
          ]
        }
      ]
    },
    {
      "cell_type": "code",
      "source": [
        "def minimum_subsidy(n, debts):\n",
        "    balance = [0] * (n + 1)\n",
        "\n",
        "    for i in range(n):\n",
        "        a, b = debts[i]\n",
        "        balance[i + 1] -= b\n",
        "        balance[a] += b\n",
        "\n",
        "    total_subsidy = sum(max(0, bal) for bal in balance)\n",
        "    return total_subsidy\n",
        "\n",
        "n = int(input())\n",
        "debts = [tuple(map(int, input().split())) for _ in range(n)]\n",
        "print(minimum_subsidy(n, debts))\n"
      ],
      "metadata": {
        "colab": {
          "base_uri": "https://localhost:8080/"
        },
        "id": "iCET5KxYYiFd",
        "outputId": "770c1c7a-b012-4c9b-c6af-c62f0242eb49"
      },
      "execution_count": null,
      "outputs": [
        {
          "output_type": "stream",
          "name": "stdout",
          "text": [
            "5\n",
            "2 5\n",
            "3 2\n",
            "4 7\n",
            "5 3\n",
            "2 4\n",
            "11\n"
          ]
        }
      ]
    },
    {
      "cell_type": "markdown",
      "source": [],
      "metadata": {
        "id": "B2DkssPJasSH"
      }
    },
    {
      "cell_type": "code",
      "source": [
        "def count_active_periods(logs):\n",
        "    if not logs:\n",
        "        return []\n",
        "\n",
        "    logs.sort(key=lambda x: (x[0], x[1]))  # Сортируем по user_id, затем по time\n",
        "    results = []\n",
        "    current_user = logs[0][0]\n",
        "    active_periods_count = 0\n",
        "    prev_time = logs[0][1]\n",
        "\n",
        "    for user_id, time in logs:\n",
        "        if user_id != current_user:\n",
        "            results.append((current_user, active_periods_count))\n",
        "            current_user = user_id\n",
        "            active_periods_count = 0\n",
        "            prev_time = time\n",
        "\n",
        "        if time - prev_time > 30:\n",
        "            active_periods_count += 1\n",
        "\n",
        "        prev_time = time\n",
        "\n",
        "    # Добавляем последнего пользователя\n",
        "    results.append((current_user, active_periods_count))\n",
        "\n",
        "    return results\n",
        "\n",
        "# Пример использования\n",
        "logs = [\n",
        "    (\"u1\", 0),\n",
        "    (\"u1\", 20),\n",
        "    (\"u2\", 30),\n",
        "    (\"u2\", 40),\n",
        "    (\"u1\", 40),\n",
        "    (\"u1\", 60),\n",
        "    (\"u2\", 65),\n",
        "    (\"u1\", 80),\n",
        "    (\"u1\", 130),\n",
        "    (\"u1\", 150),\n",
        "    (\"u1\", 200)\n",
        "]\n",
        "\n",
        "results = count_active_periods(logs)\n",
        "for user_id, cnt in results:\n",
        "    print(f\"{user_id}\\t{cnt}\")\n"
      ],
      "metadata": {
        "colab": {
          "base_uri": "https://localhost:8080/"
        },
        "id": "FEqmkGLBasgK",
        "outputId": "7a75f133-4d2a-4a76-efb7-b171a45532a1"
      },
      "execution_count": null,
      "outputs": [
        {
          "output_type": "stream",
          "name": "stdout",
          "text": [
            "u1\t2\n",
            "u2\t0\n"
          ]
        }
      ]
    },
    {
      "cell_type": "markdown",
      "source": [
        "Ящер Виталий мечтает научиться пускать «блинчики» по воде. Его друг тритон Эмиль рассказал ему, что для того чтобы научиться пускать «блинчики» нужны камни особой формы. К сожалению, ящер Виталий живет рядом с песчаным пляжем, на котором совсем нет камней. Поэтому для тренировки ящер Виталий вынужден приносить камни с собой. А так как камни тяжелые, он не хотел бы нести камней больше чем того требуется для тренировки. Помогите Виталию посчитать какое среднее количество камней нужно взять с собой, чтобы он был удовлетворен тренировкой.\n",
        "\n",
        "\n",
        "Виталий считает, что он удовлетворен тренировкой если после неудачного запуска «блинчика» два следующих запуска были удачными. Вероятность удачного запуска равно\n",
        "р\n",
        "р и не зависит от предыдущих бросков.\n",
        "На каждый запуск он расходует один камень, а еще нырять за камнями ящер Виталий не умеет, потому что ящерицы так не умеют :(\n",
        "Друг Эмиль в доставали камней ему тоже не помогает, потому что Виталий тренируется в тайне, чтобы удивить своего друга.\n",
        "\n",
        "Формат ввода\n",
        "Вводится одно число -\n",
        "p\n",
        "p вероятность того что запуск «блинчика» будет удачным. Число\n",
        "p\n",
        "p является вещественным числом в диапазоне\n",
        "0.25\n",
        "⩽\n",
        "p\n",
        "⩽\n",
        "0.75\n",
        "0.25⩽p⩽0.75, заданным с точностью до сотых.\n",
        "\n",
        "Формат вывода\n",
        "Выведите одно число - математическое ожидание количества камней, которые нужно запустить, что тренировка удовлетворила Виталия. Число следует вывести с точностью до десятитысячных (четырёх знаков после запятой)."
      ],
      "metadata": {
        "id": "8mIBuRyec3LQ"
      }
    },
    {
      "cell_type": "code",
      "source": [
        "def calculate_expected_stones_probability(p):\n",
        "    # Проверка на валидность входных данных\n",
        "    if p < 0.25 or p > 0.75:\n",
        "        raise ValueError(\"Вероятность p должна быть в диапазоне от 0.25 до 0.75\")\n",
        "\n",
        "    # Вычисляем математическое ожидание\n",
        "    expected_value = 0.0\n",
        "    current_probability = p\n",
        "    stones = 1\n",
        "\n",
        "    while stones <= 1000000:  # Ограничиваем до максимум миллиона камней\n",
        "        expected_value += stones * current_probability\n",
        "        current_probability *= (1 - p)\n",
        "        stones += 1\n",
        "\n",
        "    return round(expected_value, 4)\n",
        "\n",
        "# Входные данные из примера\n",
        "p = 0.25\n",
        "\n",
        "# Вызов функции и вывод результата\n",
        "result = calculate_expected_stones_probability(p)\n",
        "print(result)\n"
      ],
      "metadata": {
        "colab": {
          "base_uri": "https://localhost:8080/"
        },
        "id": "JmVlWXRmc5Zj",
        "outputId": "142947a7-2a74-46eb-c47d-ea9bacfec8a5"
      },
      "execution_count": null,
      "outputs": [
        {
          "output_type": "stream",
          "name": "stdout",
          "text": [
            "4.0\n"
          ]
        }
      ]
    }
  ]
}